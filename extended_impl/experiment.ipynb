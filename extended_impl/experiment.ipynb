{
 "cells": [
  {
   "cell_type": "code",
   "execution_count": null,
   "metadata": {},
   "outputs": [],
   "source": [
    "def foreachlock(tsk, blkList, locklist, sum):\n",
    "    if not locklist:\n",
    "        return sum\n",
    "    else:\n",
    "        h = locklist[0]\n",
    "        t = locklist[1:]\n",
    "        nli = getNum(h, tsk, blkList)\n",
    "        lower = list(filter(lambda x: x['pr'] < tsk['priority'] and x['lid'] == h, blk_response_time))\n",
    "        lower_val = list(map(lambda x: x['c'], lower))\n",
    "        curr = float(nli) * max(lower_val)\n",
    "        return foreachlock(tsk, blkList, t, sum + curr)\n",
    "\n",
    "\n",
    "def isSat_eqn7(li, tsk, tasklist, blkList):\n",
    "    higher = list(filter(lambda x: x['priority'] > tsk['priority'], tasklist))\n",
    "    new_li = tsk['wcet'] + foreachlock(tsk, blkList, uniquelocks, 0.0) + interference2(li, higher)  # Check\n",
    "    if equalsf(li, new_li):\n",
    "        return True\n",
    "    else:\n",
    "        schedulable = 0\n",
    "        return False\n"
   ]
  },
  {
   "cell_type": "code",
   "execution_count": null,
   "metadata": {},
   "outputs": [],
   "source": [
    "def add_task_locks(task_lock_list, task, block_list):\n",
    "    # Append all the locks corresponding to this task in the task_lock_list\n",
    "    for blk in block_list:\n",
    "        if blk.task_name==task.name:\n",
    "            task_lock_list.append(blk)\n",
    "\n",
    "def get_task_locks_list_high_priority(tk, task_list, block_list):\n",
    "    task_lock_list=[]\n",
    "    for task in task_list:\n",
    "        if task.priority >= tk.priority:\n",
    "            add_task_locks(task_lock_list, task, block_list)\n",
    "    \n",
    "    return task_lock_list"
   ]
  },
  {
   "cell_type": "code",
   "execution_count": null,
   "metadata": {},
   "outputs": [],
   "source": [
    "def foreachlock(tsk, blkList, locklist, sum):\n",
    "    if not locklist:\n",
    "        return sum\n",
    "    else:\n",
    "        h = locklist[0]\n",
    "        t = locklist[1:]\n",
    "        lower = list(filter(lambda x: x['pr'] < tsk['priority'] and x['lid'] == h, blk_response_time))\n",
    "        lower_val = list(map(lambda x: x['c'], lower))\n",
    "        curr = max(lower_val)\n",
    "        return foreachlock(tsk, blkList, t, sum + curr)\n",
    "\n",
    "\n",
    "def isSat_eqn7(li, tsk, tasklist, blkList):\n",
    "    locks_high_priority = get_task_locks_list_high_priority(tk, tasklist)\n",
    "    higher = list(filter(lambda x: x['priority'] > tsk['priority'], tasklist))\n",
    "    new_li = tsk['wcet'] + foreachlock(tsk, blkList, locks_high_priority, 0.0) + interference2(li, higher)  # Check\n",
    "    if equalsf(li, new_li):\n",
    "        return True\n",
    "    else:\n",
    "        schedulable = 0\n",
    "        return False\n"
   ]
  }
 ],
 "metadata": {
  "kernelspec": {
   "display_name": "Python 3",
   "language": "python",
   "name": "python3"
  },
  "language_info": {
   "name": "python",
   "version": "3.6.9"
  },
  "orig_nbformat": 4
 },
 "nbformat": 4,
 "nbformat_minor": 2
}
